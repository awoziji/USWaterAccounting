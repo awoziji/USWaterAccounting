{
 "cells": [
  {
   "cell_type": "markdown",
   "metadata": {},
   "source": [
    "Helpers: \n",
    "* https://stackoverflow.com/questions/32173053/copy-columns-from-workbook-paste-in-second-sheet-of-second-workbook-openpyxl\n",
    "* https://automatetheboringstuff.com/chapter12/"
   ]
  },
  {
   "cell_type": "code",
   "execution_count": 1,
   "metadata": {
    "collapsed": true
   },
   "outputs": [],
   "source": [
    "import sys, os, openpyxl, xlrd\n",
    "from openpyxl.utils import get_column_letter\n",
    "from copy import copy\n",
    "import pandas as pd\n",
    "import numpy as np"
   ]
  },
  {
   "cell_type": "code",
   "execution_count": 2,
   "metadata": {
    "collapsed": true
   },
   "outputs": [],
   "source": [
    "#Get the filename\n",
    "dataDir = '../../Data'\n",
    "dataFN = dataDir + os.sep + 'LouisianaWaterUse_Distribute.xlsx'\n",
    "xlFN = dataDir + os.sep + 'LA_SWUDS_BalanceSheet1.xlsx'\n",
    "outFN = dataDir + os.sep + 'LA_SWUDS_BalanceSheet2.xlsx'"
   ]
  },
  {
   "cell_type": "code",
   "execution_count": 3,
   "metadata": {},
   "outputs": [],
   "source": [
    "#Read the data xlsx file in as a dataframe\n",
    "dfRaw = pd.read_excel(dataFN,sheetname='data1')"
   ]
  },
  {
   "cell_type": "code",
   "execution_count": 4,
   "metadata": {},
   "outputs": [],
   "source": [
    "#Select only 2000, 2005, and 2010 records and list the number of data for each column\n",
    "dfSelect = dfRaw[dfRaw.Year.isin([2000,2005,2010])]"
   ]
  },
  {
   "cell_type": "code",
   "execution_count": 5,
   "metadata": {},
   "outputs": [
    {
     "data": {
      "text/plain": [
       "array([u'County Code', u'SIC1', u'Description', u'Water Use Type',\n",
       "       u'MP ID', u'MP Type', u'MP Name', u'Source Water Type',\n",
       "       u'Aquifer Code', u'Aquifer Name2', u'Aquifer Group ID',\n",
       "       u'Aquifer Group Name', u'HUC-8', u'HUC-12', u'Year',\n",
       "       u'Annual Amt. (MGD)'], dtype=object)"
      ]
     },
     "execution_count": 5,
     "metadata": {},
     "output_type": "execute_result"
    }
   ],
   "source": [
    "dfSelect.columns.values"
   ]
  },
  {
   "cell_type": "code",
   "execution_count": 6,
   "metadata": {
    "collapsed": true
   },
   "outputs": [],
   "source": [
    "#Pivot on year, listing usage (Annual Amt. MGD) by Source Water  Type and SCI1 Description\n",
    "dfPivot = dfSelect.pivot_table(columns='Year',index=('SIC1','Description'),values='Annual Amt. (MGD)',aggfunc='sum')\n",
    "dfPivot.reset_index(inplace=True)"
   ]
  },
  {
   "cell_type": "code",
   "execution_count": 7,
   "metadata": {},
   "outputs": [],
   "source": [
    "#Create a list of sectors\n",
    "sectorNames = dfPivot.Description.values.tolist()"
   ]
  },
  {
   "cell_type": "code",
   "execution_count": 8,
   "metadata": {
    "collapsed": true
   },
   "outputs": [],
   "source": [
    "#Open the workbook\n",
    "wb = openpyxl.load_workbook(xlFN)"
   ]
  },
  {
   "cell_type": "code",
   "execution_count": 9,
   "metadata": {
    "collapsed": true
   },
   "outputs": [],
   "source": [
    "#Get the sheet\n",
    "ws = wb.get_sheet_by_name('2000')"
   ]
  },
  {
   "cell_type": "code",
   "execution_count": 10,
   "metadata": {},
   "outputs": [],
   "source": [
    "#Update the name of the first sector columns\n",
    "ws['B2'] = sectorNames[0]\n",
    "ws['B19'] = sectorNames[0]"
   ]
  },
  {
   "cell_type": "code",
   "execution_count": 11,
   "metadata": {},
   "outputs": [],
   "source": [
    "#Loop through each sector, by index\n",
    "for idx in range(1,len(sectorNames)):\n",
    "    #get the sector at the index\n",
    "    sectorName = sectorNames[idx]\n",
    "    #get the letter of the column to create\n",
    "    colLetter = get_column_letter(idx+1)\n",
    "    #Add a new column\n",
    "    for src, dst in zip(ws['B:B'], ws['{0}:{0}'.format(colLetter)]):\n",
    "        dst.value = src.value\n",
    "        if src.has_style:\n",
    "            dst.font = copy(src.font)\n",
    "            dst.fill = copy(src.fill)\n",
    "            dst.number_format = copy(src.number_format)\n",
    "            dst.alignment = copy(src.alignment)\n",
    "            dst.border = copy(src.border)\n",
    "    #Update the sector name\n",
    "    ws['{}2'.format(colLetter)] = sectorName\n",
    "    ws['{}19'.format(colLetter)] = sectorName"
   ]
  },
  {
   "cell_type": "code",
   "execution_count": 12,
   "metadata": {},
   "outputs": [],
   "source": [
    "#Save\n",
    "wb.save(outFN)"
   ]
  },
  {
   "cell_type": "code",
   "execution_count": null,
   "metadata": {
    "collapsed": true
   },
   "outputs": [],
   "source": []
  }
 ],
 "metadata": {
  "kernelspec": {
   "display_name": "Python 2",
   "language": "python",
   "name": "python2"
  },
  "language_info": {
   "codemirror_mode": {
    "name": "ipython",
    "version": 2
   },
   "file_extension": ".py",
   "mimetype": "text/x-python",
   "name": "python",
   "nbconvert_exporter": "python",
   "pygments_lexer": "ipython2",
   "version": "2.7.12"
  }
 },
 "nbformat": 4,
 "nbformat_minor": 2
}
