{
 "cells": [
  {
   "cell_type": "markdown",
   "metadata": {},
   "source": [
    "Helpers: \n",
    "* https://stackoverflow.com/questions/32173053/copy-columns-from-workbook-paste-in-second-sheet-of-second-workbook-openpyxl\n",
    "* https://automatetheboringstuff.com/chapter12/"
   ]
  },
  {
   "cell_type": "code",
   "execution_count": 1,
   "metadata": {
    "collapsed": true
   },
   "outputs": [],
   "source": [
    "import sys, os, openpyxl"
   ]
  },
  {
   "cell_type": "code",
   "execution_count": 2,
   "metadata": {
    "collapsed": true
   },
   "outputs": [],
   "source": [
    "#Get the filename\n",
    "dataDir = '../../Data'\n",
    "xlFN = dataDir + os.sep + 'LA_SWUDS_BalanceSheet.xlsx'\n",
    "outFN = dataDir + os.sep + 'LA_SWUDS_BalanceSheet1.xlsx'"
   ]
  },
  {
   "cell_type": "code",
   "execution_count": 10,
   "metadata": {},
   "outputs": [],
   "source": [
    "#Open the workbook\n",
    "wb = openpyxl.load_workbook(xlFN)"
   ]
  },
  {
   "cell_type": "code",
   "execution_count": 11,
   "metadata": {
    "collapsed": true
   },
   "outputs": [],
   "source": [
    "#Get the sheet\n",
    "ws = wb.get_sheet_by_name('2000')"
   ]
  },
  {
   "cell_type": "code",
   "execution_count": 12,
   "metadata": {},
   "outputs": [],
   "source": [
    "#Copy column B to C\n",
    "for src, dst in zip(ws['B:B'], ws['D:D']):\n",
    "    dst.value = src.value\n",
    "    #if src.has_style:\n",
    "    dst.style = src.style\n",
    "    #dst.fill = src.fill\n",
    "    #dst.number_format = src.number_format\n",
    "    #dst.alignment = src.alignment"
   ]
  },
  {
   "cell_type": "code",
   "execution_count": 14,
   "metadata": {},
   "outputs": [],
   "source": [
    "#Save\n",
    "wb.save(outFN)"
   ]
  }
 ],
 "metadata": {
  "kernelspec": {
   "display_name": "Python 2",
   "language": "python",
   "name": "python2"
  },
  "language_info": {
   "codemirror_mode": {
    "name": "ipython",
    "version": 2
   },
   "file_extension": ".py",
   "mimetype": "text/x-python",
   "name": "python",
   "nbconvert_exporter": "python",
   "pygments_lexer": "ipython2",
   "version": "2.7.12"
  }
 },
 "nbformat": 4,
 "nbformat_minor": 2
}
