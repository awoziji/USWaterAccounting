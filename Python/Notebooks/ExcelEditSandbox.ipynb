{
 "cells": [
  {
   "cell_type": "markdown",
   "metadata": {},
   "source": [
    "Helpers: \n",
    "* https://stackoverflow.com/questions/32173053/copy-columns-from-workbook-paste-in-second-sheet-of-second-workbook-openpyxl\n",
    "* https://automatetheboringstuff.com/chapter12/"
   ]
  },
  {
   "cell_type": "code",
   "execution_count": 1,
   "metadata": {
    "collapsed": true
   },
   "outputs": [],
   "source": [
    "import sys, os, openpyxl, xlrd\n",
    "from openpyxl.utils import get_column_letter\n",
    "from copy import copy\n",
    "import pandas as pd\n",
    "import numpy as np"
   ]
  },
  {
   "cell_type": "code",
   "execution_count": 2,
   "metadata": {
    "collapsed": true
   },
   "outputs": [],
   "source": [
    "#Get the filename\n",
    "dataDir = '../../Data'\n",
    "dataFN = dataDir + os.sep + 'LouisianaWaterUse_Distribute.xlsx'\n",
    "templateFN = dataDir + os.sep + 'LA_SWUDS_BalanceSheet.xlsx'\n",
    "outFN = dataDir + os.sep + 'LA_SWUDS_BalanceSheet2.xlsx'"
   ]
  },
  {
   "cell_type": "code",
   "execution_count": 3,
   "metadata": {},
   "outputs": [],
   "source": [
    "#Read the data xlsx file in as a dataframe\n",
    "dfRaw = pd.read_excel(dataFN,sheetname='data1')"
   ]
  },
  {
   "cell_type": "code",
   "execution_count": 4,
   "metadata": {},
   "outputs": [],
   "source": [
    "#Select only 2000, 2005, and 2010 records and list the number of data for each column\n",
    "dfSelect = dfRaw[dfRaw.Year.isin([2000,2005,2010])]"
   ]
  },
  {
   "cell_type": "code",
   "execution_count": 5,
   "metadata": {
    "collapsed": true
   },
   "outputs": [],
   "source": [
    "#Pivot on year, listing usage (Annual Amt. MGD) by Source Water  Type and SCI1 Description\n",
    "dfPivot = dfSelect.pivot_table(columns='Year',\n",
    "                               index=('SIC1','Description'),\n",
    "                               values='Annual Amt. (MGD)',\n",
    "                               aggfunc='sum')\n",
    "#Reset the index to add index values back as columns\n",
    "dfPivot.reset_index(inplace=True)"
   ]
  },
  {
   "cell_type": "code",
   "execution_count": 6,
   "metadata": {},
   "outputs": [],
   "source": [
    "#Create a list of sector names and append a TOTAL entry\n",
    "sectorNames = dfPivot.Description.values.tolist()\n",
    "sectorNames.append(\"TOTAL\")"
   ]
  },
  {
   "cell_type": "code",
   "execution_count": 7,
   "metadata": {
    "collapsed": true
   },
   "outputs": [],
   "source": [
    "#Open the balance sheet template workbook\n",
    "wb = openpyxl.load_workbook(templateFN)"
   ]
  },
  {
   "cell_type": "code",
   "execution_count": 8,
   "metadata": {
    "collapsed": true
   },
   "outputs": [],
   "source": [
    "#Set the year\n",
    "year = 2000"
   ]
  },
  {
   "cell_type": "code",
   "execution_count": 9,
   "metadata": {
    "collapsed": true
   },
   "outputs": [],
   "source": [
    "#Get the sheet for the given year\n",
    "ws = wb.get_sheet_by_name(str(year))"
   ]
  },
  {
   "cell_type": "code",
   "execution_count": 10,
   "metadata": {},
   "outputs": [],
   "source": [
    "def updateColumn(worksheet,col,name,useGW=0):\n",
    "    '''Updates the specified column in the balance sheet.\n",
    "       col = the letter of the column to be updated\n",
    "       name = the name of the sector\n",
    "       useGW = the use from groundwater\n",
    "    '''\n",
    "    #Sector names\n",
    "    worksheet['{0}2'.format(col)].value = name\n",
    "    worksheet['{0}19'.format(col)].value = name\n",
    "\n",
    "    ##Supply calculations\n",
    "    worksheet['{0}12'.format(col)].value = '=SUM({0}9:{0}11)'.format(col)\n",
    "    worksheet['{0}16'.format(col)].value = '=SUM({0}14:{0}15)'.format(col)\n",
    "    worksheet['{0}17'.format(col)].value = '=SUM({0}12,{0}16)'.format(col)\n",
    "\n",
    "    ##Use calculations\n",
    "    worksheet['{0}24'.format(col)].value = '=SUM({0}21:{0}23)'.format(col)\n",
    "    worksheet['{0}29'.format(col)].value = '=SUM({0}26:{0}28)'.format(col)\n",
    "    worksheet['{0}34'.format(col)].value = '=SUM({0}24,{0}29)'.format(col)\n",
    "\n",
    "    ##Totals\n",
    "    worksheet['{0}36'.format(col)].value = '=({0}34-{0}17)'.format(col)\n",
    "    \n",
    "    ##Values\n",
    "    worksheet['{0}22'.format(col)].value = useGW\n"
   ]
  },
  {
   "cell_type": "code",
   "execution_count": 11,
   "metadata": {},
   "outputs": [],
   "source": [
    "#Create totals column\n",
    "def updateTotalCol(worksheet, colNum):\n",
    "    totalCol = get_column_letter(colNum)\n",
    "    prevCol = get_column_letter(colNum - 1)\n",
    "\n",
    "    #Add sum formula in the following rows\n",
    "    for row in [4,5,6,7,9,10,11,12,14,15,16,17,20,21,22,23,24,26,27,28,29,31,32,32,34]:\n",
    "        worksheet['{0}{1}'.format(totalCol,row)].value = '=SUM(B{0}:{1}{0})'.format(row,prevCol)\n",
    "\n",
    "    #Add the grand total (supply - use)\n",
    "    worksheet['{0}36'.format(totalCol)].value = '=({0}34-{0}17)'.format(totalCol)"
   ]
  },
  {
   "cell_type": "code",
   "execution_count": 12,
   "metadata": {},
   "outputs": [],
   "source": [
    "#Update the cells of the first sector column\n",
    "col = 'B'\n",
    "name = sectorNames[0]\n",
    "usage = dfPivot.loc[dfPivot.Description == sectorNames[0], year].iloc[0]\n",
    "\n",
    "updateColumn(ws, col, name, usage)"
   ]
  },
  {
   "cell_type": "code",
   "execution_count": 13,
   "metadata": {},
   "outputs": [],
   "source": [
    "#Loop through each sector, by index\n",
    "for idx in range(1,len(sectorNames)):\n",
    "    #get the sector name at the index\n",
    "    sectorName = sectorNames[idx]\n",
    "    #get the letter of the column to create\n",
    "    colLetter = get_column_letter(idx+1)\n",
    "    \n",
    "    #Add a new column and copy the style\n",
    "    for src, dst in zip(ws['B:B'], ws['{0}:{0}'.format(colLetter)]):\n",
    "        if src.value: dst.value = str(src.value).replace('B',colLetter)\n",
    "        if src.has_style:\n",
    "            dst.font = copy(src.font)\n",
    "            dst.fill = copy(src.fill)\n",
    "            dst.number_format = copy(src.number_format)\n",
    "            dst.alignment = copy(src.alignment)\n",
    "            dst.border = copy(src.border)\n",
    "            \n",
    "    #Update the value for the current sector, unless it's the TOTAL column\n",
    "    if sectorName != 'TOTAL':\n",
    "        usage = dfPivot.loc[dfPivot.Description == sectorName, 2000].iloc[0]\n",
    "        updateColumn(ws, colLetter, sectorName, usage)\n",
    "        \n",
    "    #Otherwise, fill the column with the formulae for the Totals\n",
    "    updateTotalCol(ws, idx+1)\n"
   ]
  },
  {
   "cell_type": "code",
   "execution_count": 14,
   "metadata": {},
   "outputs": [],
   "source": [
    "#Save\n",
    "wb.save(outFN)"
   ]
  }
 ],
 "metadata": {
  "kernelspec": {
   "display_name": "Python 2",
   "language": "python",
   "name": "python2"
  },
  "language_info": {
   "codemirror_mode": {
    "name": "ipython",
    "version": 2
   },
   "file_extension": ".py",
   "mimetype": "text/x-python",
   "name": "python",
   "nbconvert_exporter": "python",
   "pygments_lexer": "ipython2",
   "version": "2.7.12"
  }
 },
 "nbformat": 4,
 "nbformat_minor": 2
}
