{
 "cells": [
  {
   "cell_type": "markdown",
   "metadata": {},
   "source": [
    "### Import USGS use data & Create usage table\n",
    "Here we download the raw usage data for years 2000, 2005, and 2010 from the USGS usage site and synthesize all data into a flat table listing: year, FIPS code, and total annual withdrawals by sector in MGal/day (*so these need to be ajdusted for yearly sums!)\n",
    "\n",
    "The steps required include:\n",
    "* Pulling the raw data file, in tab-delimted format, from the USGS server into a pandas dataframe.\n",
    "* Adjusting field names to a standard nomenclature:\n",
    "    * Adding year columns to 2000 and 2005 datasets.\n",
    "    * For year 2000, remapping 'IT', 'LA', 'LS', and 'PE' fields to 'IC', 'AQ', 'LI' and 'PC', respectively([reference]( https://water.usgs.gov/watuse/data/2000/datadict.html)).\n",
    "        * IT -> IC (Irrigated cropland)\n",
    "        * LA -> AQ (Aquaculture)\n",
    "        * LS -> LI (Livestock)\n",
    "        * PE -> PC (Thermoelectric power closed-loop)\n",
    "    * For year 2005, remapping 'LA' and 'LS' fields to 'AQ' and 'LI', respectively([reference]( https://water.usgs.gov/watuse/data/2005/datadict.html)). \n",
    "        * LA -> AQ (Aquaculture)\n",
    "        * LS -> LI (Livestock)\n",
    "* Re-arranging data into a tidy format to facilitate additional analyses.\n",
    "    * Care must be taken that the FIPS codes are preserved as text, not numbers\n",
    "* Appending all tables into a single dataframe, with records tagged by the year of the dataset.\n",
    "* Removing extraneous fields, keeping only the sector total columns:\n",
    "    \n",
    "The resulting table will be formatted as follows:\n",
    "\n",
    "| YEAR | FIPS | UseClass | SourceClass | SourceType | Amount |\n",
    "| :---: | :---: | :---: | :---: | :---: | :---: | :---: | \n",
    "| 2000 | 01001 | PublicSupply | Surface  | Fresh |0.00 |\n",
    "| 2000 | 01001 | Industrial | Ground  | Saline |0.00 |\n",
    "\n",
    "This table can then be summarized and joined, by YEAR and FIPS code, to other accounting data tables and summarized by state. \n"
   ]
  },
  {
   "cell_type": "code",
   "execution_count": 1,
   "metadata": {
    "collapsed": true
   },
   "outputs": [],
   "source": [
    "#Import modules required for analysis\n",
    "import os\n",
    "import pandas as pd\n",
    "import numpy as np"
   ]
  },
  {
   "cell_type": "code",
   "execution_count": 2,
   "metadata": {},
   "outputs": [],
   "source": [
    "#Create prefix remapping dictionaries to standardize column names for all years to 2010\n",
    "remapDict = {'IT-':'IC-', #Irrigated cropland\n",
    "             'LA-':'AQ-', #Aquaculture\n",
    "             'LS-':'LI-', #Livestock\n",
    "             'PE-':'PC-', #Closed-loop thermo electric\n",
    "             'Wtotl':'WTotl' #Capitalization mismatch\n",
    "            }"
   ]
  },
  {
   "cell_type": "code",
   "execution_count": 7,
   "metadata": {
    "collapsed": true
   },
   "outputs": [],
   "source": [
    "#Create a function for importing a table and standardizing all field names\n",
    "def importTable(year, remapDict):\n",
    "    \n",
    "    #Set the download URL using with the year\n",
    "    theURL = 'http://water.usgs.gov/watuse/data/{0}/usco{0}.txt'.format(year) \n",
    "    \n",
    "    #Download the dataset to a data frame (keeping the FIPS attribute as a string)\n",
    "    df = pd.read_table(theURL.format(year),dtype={'FIPS':str})\n",
    "    \n",
    "    #Remove the STATE, STATEFIPS and COUNTYFIPS columns (Not needed)\n",
    "    df.drop(\"STATE\",axis=1,inplace=True)\n",
    "    df.drop(\"STATEFIPS\",axis=1,inplace=True)\n",
    "    df.drop(\"COUNTYFIPS\",axis=1,inplace=True)\n",
    "    \n",
    "    #Use the remap dictionary to rename columns\n",
    "    \n",
    "    #Get the current column names as a list\n",
    "    colNames = df.columns.values.tolist()\n",
    "    \n",
    "    for inFld,outFld in remapDict.items():\n",
    "        #This loops through each item in colNames and replaces it with a revised one\n",
    "        colNames_update = [x.replace(inFld,outFld) for x in colNames]\n",
    "        colNames = colNames_update\n",
    "\n",
    "    #Update the column names in the data frame\n",
    "    df.columns = colNames\n",
    "    \n",
    "    #Add year field, if not present\n",
    "    if \"YEAR\" not in df.columns.values: \n",
    "        df.insert(1,\"YEAR\",year)\n",
    "        \n",
    "    #Remove unnamed columns\n",
    "    if \"Unnamed\" in df.columns.values[-1]:\n",
    "        df.drop(df.columns.values[-1],axis=1,inplace=True)\n",
    "        \n",
    "    #Return the data frame\n",
    "    return df"
   ]
  },
  {
   "cell_type": "code",
   "execution_count": 25,
   "metadata": {},
   "outputs": [
    {
     "name": "stdout",
     "output_type": "stream",
     "text": [
      "(3222, 68) (3224, 105) (3224, 114)\n"
     ]
    }
   ],
   "source": [
    "#Get the tables\n",
    "df2000 = importTable(2000,remapDict)\n",
    "df2005 = importTable(2005,remapDict)\n",
    "df2010 = importTable(2010,remapDict)\n",
    "print df2000.shape, df2005.shape, df2010.shape"
   ]
  },
  {
   "cell_type": "code",
   "execution_count": 26,
   "metadata": {
    "collapsed": true
   },
   "outputs": [],
   "source": [
    "#\"Melt\" data so each use/class/type becomes a new row\n",
    "df2000m = pd.melt(df2000,id_vars=['FIPS','YEAR'],var_name='Class',value_name='Amount')\n",
    "df2005m = pd.melt(df2005,id_vars=['FIPS','YEAR'],var_name='Class',value_name='Amount')\n",
    "df2010m = pd.melt(df2010,id_vars=['FIPS','YEAR'],var_name='Class',value_name='Amount')"
   ]
  },
  {
   "cell_type": "code",
   "execution_count": 27,
   "metadata": {},
   "outputs": [
    {
     "data": {
      "text/plain": [
       "(212652, 3224, 3224)"
      ]
     },
     "execution_count": 27,
     "metadata": {},
     "output_type": "execute_result"
    }
   ],
   "source": [
    "df2000m.shape[0], df2005.shape[0],df2010.shape[0]"
   ]
  },
  {
   "cell_type": "code",
   "execution_count": 44,
   "metadata": {},
   "outputs": [
    {
     "name": "stdout",
     "output_type": "stream",
     "text": [
      "850608 212652\n",
      "1328288 332072\n",
      "1444352 361088\n"
     ]
    }
   ],
   "source": [
    "print df2000m.size, (df2000m.shape[0] )\n",
    "print df2005m.size, df2005m.shape[0] \n",
    "print df2010m.size, df2010m.shape[0] "
   ]
  },
  {
   "cell_type": "code",
   "execution_count": 46,
   "metadata": {},
   "outputs": [
    {
     "data": {
      "text/plain": [
       "0"
      ]
     },
     "execution_count": 46,
     "metadata": {},
     "output_type": "execute_result"
    }
   ],
   "source": [
    "#Merge all records into a single table\n",
    "dfUse = pd.concat([df2000m, df2005m, df2010m],ignore_index=True)"
   ]
  },
  {
   "cell_type": "code",
   "execution_count": null,
   "metadata": {},
   "outputs": [],
   "source": [
    "df2000.columns.values"
   ]
  },
  {
   "cell_type": "code",
   "execution_count": null,
   "metadata": {},
   "outputs": [],
   "source": [
    "#Create columns to hold use class, source class, and source type\n",
    "df2000x = df2000.assign(UseClass='',SourceClass='',SourceType='')\n",
    "df2000x.columns.values"
   ]
  },
  {
   "cell_type": "code",
   "execution_count": null,
   "metadata": {
    "collapsed": true
   },
   "outputs": [],
   "source": [
    "#"
   ]
  },
  {
   "cell_type": "code",
   "execution_count": null,
   "metadata": {
    "collapsed": true
   },
   "outputs": [],
   "source": [
    "#Set the output location and filename\n",
    "dataDir = '../../Data'\n",
    "outFN = 'AllUsageData.csv'"
   ]
  },
  {
   "cell_type": "code",
   "execution_count": null,
   "metadata": {
    "collapsed": true
   },
   "outputs": [],
   "source": [
    "#Define the function to retrieve data and fix field name issues\n",
    "def getData(year):\n",
    "    print \"Retrieving data for {}\".format(year)\n",
    "    \n",
    "    #Create a dictionary of proper dtypes (avoids converting FIPS to numeric types)\n",
    "    formatDict = {'STATEFIPS':str,'COUNTYFIPS':str,'FIPS':str}\n",
    "\n",
    "    #Set the base URL to be used to get any annual dataset\n",
    "    theBaseURL = 'http://water.usgs.gov/watuse/data/{0}/usco{0}.txt' \n",
    "    \n",
    "    #Retrieve the data\n",
    "    df = pd.read_table(theBaseURL.format(year),dtype=formatDict)\n",
    "    \n",
    "    #Remap the IT-, LA-, and LS- columns to IC-, AQ-, and LI-\n",
    "    fldsIn = ('IT-','LA-','LS-','PE','Wtotl')\n",
    "    fldsOut = ('IC-','AQ-','LI-','PC','WTotl')\n",
    "\n",
    "    #Get the current column names as a list\n",
    "    colNames = df.columns.values.tolist()\n",
    "\n",
    "    #Create a revised column name list\n",
    "    for inFld,outFld in zip(fldsIn,fldsOut):\n",
    "        #This loops through each item in colNames and replaces it with a revised one\n",
    "        colNames_update = [x.replace(inFld,outFld) for x in colNames]\n",
    "        colNames = colNames_update\n",
    "\n",
    "    #Update the column names in the data frame\n",
    "    df.columns = colNames\n",
    "    \n",
    "    #Add year field, if not present\n",
    "    if \"YEAR\" not in df.columns.values: \n",
    "        df.insert(4,\"YEAR\",year)\n",
    "        \n",
    "    #Remove unnamed columns\n",
    "    if \"Unnamed\" in df.columns.values[-1]:\n",
    "        df.drop(df.columns.values[-1],axis=1,inplace=True)\n",
    "        \n",
    "    #Return the updated dataframe\n",
    "    return df"
   ]
  },
  {
   "cell_type": "code",
   "execution_count": null,
   "metadata": {},
   "outputs": [],
   "source": [
    "#Retrieve the data into a dataframe\n",
    "df2000 = getData(2000)\n",
    "df2005 = getData(2005)\n",
    "df2010 = getData(2010)"
   ]
  },
  {
   "cell_type": "code",
   "execution_count": null,
   "metadata": {
    "collapsed": true
   },
   "outputs": [],
   "source": [
    "#Merge the tables into one\n",
    "df = pd.concat([df2000, df2005,df2010])"
   ]
  },
  {
   "cell_type": "code",
   "execution_count": null,
   "metadata": {},
   "outputs": [],
   "source": [
    "#Check that the final merge contains all yearly columns\n",
    "s00 = set(df2000.columns.values.tolist())\n",
    "s05 = set(df2005.columns.values.tolist())\n",
    "s10 = set(df2010.columns.values.tolist())\n",
    "sXX = set(df.columns.values.tolist())\n",
    "print s00.issubset(sXX)\n",
    "print s05.issubset(sXX)\n",
    "print s10.issubset(sXX)"
   ]
  },
  {
   "cell_type": "code",
   "execution_count": null,
   "metadata": {
    "collapsed": true
   },
   "outputs": [],
   "source": [
    "#Subset and rename columns (FRESH WATER ONLY)\n",
    "\n",
    "#Create lists of columns to keep and names to assign\n",
    "useFields = ['YEAR','FIPS','PS-WFrTo','DO-WFrTo','IN-WTotl','IR-WFrTo','LI-WFrTo','AQ-WFrTo','MI-WFrTo','PT-WFrTo','TO-WFrTo']\n",
    "useNames = ['YEAR','FIPS','Public','Domestic','Industry','Irrigation','Livestock','Aquaculture','Mining','Thermoelectic','TOTAL']\n",
    "\n",
    "#Subset columns in the list\n",
    "dfUsage = df[useFields]\n",
    "\n",
    "#Rename the columns\n",
    "dfUsage.columns = useNames"
   ]
  },
  {
   "cell_type": "code",
   "execution_count": null,
   "metadata": {
    "collapsed": true
   },
   "outputs": [],
   "source": [
    "#Fix FIPS column\n",
    "dfUsage['FIPS'] = df['FIPS'].apply(lambda x: str(x).zfill(5))"
   ]
  },
  {
   "cell_type": "code",
   "execution_count": null,
   "metadata": {
    "collapsed": true
   },
   "outputs": [],
   "source": [
    "#Save as a CSV file\n",
    "dfUsage.to_csv(outFN,index_label=\"KEY\")"
   ]
  },
  {
   "cell_type": "code",
   "execution_count": null,
   "metadata": {
    "collapsed": true
   },
   "outputs": [],
   "source": [
    "#Example of extracting state records, NC = FIPS 37\n",
    "fips = '37'\n",
    "fipsFilter = dfUsage['FIPS'].str.startswith(fips,na=False)"
   ]
  }
 ],
 "metadata": {
  "kernelspec": {
   "display_name": "Python 2",
   "language": "python",
   "name": "python2"
  },
  "language_info": {
   "codemirror_mode": {
    "name": "ipython",
    "version": 2
   },
   "file_extension": ".py",
   "mimetype": "text/x-python",
   "name": "python",
   "nbconvert_exporter": "python",
   "pygments_lexer": "ipython2",
   "version": "2.7.12"
  }
 },
 "nbformat": 4,
 "nbformat_minor": 2
}
