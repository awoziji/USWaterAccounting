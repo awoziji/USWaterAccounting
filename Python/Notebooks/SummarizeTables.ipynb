{
 "cells": [
  {
   "cell_type": "markdown",
   "metadata": {},
   "source": [
    "## Summarize Tables\n",
    "* Joins FIPS codes to downloaded water tables and summarizes by state"
   ]
  },
  {
   "cell_type": "code",
   "execution_count": 2,
   "metadata": {
    "collapsed": true
   },
   "outputs": [],
   "source": [
    "#import libraries\n",
    "import sys, os\n",
    "import pandas as pd\n",
    "import numpy as np"
   ]
  },
  {
   "cell_type": "code",
   "execution_count": 4,
   "metadata": {},
   "outputs": [],
   "source": [
    "#get the filenames\n",
    "dataDir = \"../../Data\"\n",
    "fipsCSV = dataDir + os.sep + \"FIPS.csv\"\n",
    "dataCSV = dataDir + os.sep + \"Year2000.csv\"\n",
    "outCSV = dataDir + os.sep + \"Year2000_byState.csv\""
   ]
  },
  {
   "cell_type": "code",
   "execution_count": 9,
   "metadata": {},
   "outputs": [
    {
     "name": "stdout",
     "output_type": "stream",
     "text": [
      "(54017, 2) (54017, 6)\n"
     ]
    }
   ],
   "source": [
    "#make data frames from the csv files\n",
    "dfFIPS = pd.read_csv(fipsCSV)\n",
    "dfData = pd.read_csv(dataCSV)\n",
    "print dfFIPS.shape, dfData.shape"
   ]
  },
  {
   "cell_type": "code",
   "execution_count": 27,
   "metadata": {},
   "outputs": [
    {
     "data": {
      "text/plain": [
       "Index([u'Longitude', u'Latitude', u'Runoff', u'Precip', u'ET', u'SoilMoisture',\n",
       "       u'STATE'],\n",
       "      dtype='object')"
      ]
     },
     "execution_count": 27,
     "metadata": {},
     "output_type": "execute_result"
    }
   ],
   "source": [
    "dfData.columns"
   ]
  },
  {
   "cell_type": "code",
   "execution_count": 20,
   "metadata": {},
   "outputs": [],
   "source": [
    "#join FIPS to data\n",
    "dfData['STATE'] = dfFIPS[' STATEFIPS']"
   ]
  },
  {
   "cell_type": "code",
   "execution_count": 40,
   "metadata": {},
   "outputs": [],
   "source": [
    "#Summarize on state  NOT WORKING\n",
    "grpState = dfData[['Runoff', 'Precip', 'ET', 'SoilMoisture']].groupby(dfData['STATE']).mean()\n",
    "grpState.to_csv(outCSV)"
   ]
  }
 ],
 "metadata": {
  "kernelspec": {
   "display_name": "Python 2",
   "language": "python",
   "name": "python2"
  },
  "language_info": {
   "codemirror_mode": {
    "name": "ipython",
    "version": 2
   },
   "file_extension": ".py",
   "mimetype": "text/x-python",
   "name": "python",
   "nbconvert_exporter": "python",
   "pygments_lexer": "ipython2",
   "version": "2.7.12"
  }
 },
 "nbformat": 4,
 "nbformat_minor": 2
}
