{
 "cells": [
  {
   "cell_type": "markdown",
   "metadata": {},
   "source": [
    "#### Geopandas example \n",
    "Uses the geopandas library to perform a spatial join of climate data and counties to assign FIPS codes to each 1/8th degree record.\n",
    "\n",
    "Based on example in https://gis.stackexchange.com/questions/175228/geopandas-spatial-join-extremely-slow"
   ]
  },
  {
   "cell_type": "code",
   "execution_count": 1,
   "metadata": {
    "collapsed": true
   },
   "outputs": [],
   "source": [
    "import sys, os\n",
    "import pandas as pd\n",
    "import geopandas as gpd\n",
    "from geopandas import GeoDataFrame, read_file\n",
    "from geopandas.tools import sjoin\n",
    "from shapely.geometry import Point, mapping,shape"
   ]
  },
  {
   "cell_type": "code",
   "execution_count": 2,
   "metadata": {
    "collapsed": true
   },
   "outputs": [],
   "source": [
    "#Input files\n",
    "dataDir = \"..\\\\..\\\\Data\"\n",
    "countyFN = dataDir + os.sep + \"cb_2016_us_county_5m.shp\"\n",
    "hydroFN = 'df2000.csv'\n",
    "outFC = dataDir + os.sep + \"HydroFIPS.csv\""
   ]
  },
  {
   "cell_type": "code",
   "execution_count": 3,
   "metadata": {
    "collapsed": true
   },
   "outputs": [],
   "source": [
    "#Create a dataframe from the hydro data\n",
    "df=pd.read_csv(hydroFN,index_col=None)#,nrows=2000)"
   ]
  },
  {
   "cell_type": "code",
   "execution_count": 4,
   "metadata": {},
   "outputs": [],
   "source": [
    "#Add geometry to the hydro data based on its Lat/Long values\n",
    "##First create a column of shapely point objects from the long/lat values \n",
    "df['geometry'] = df.apply(lambda z: Point(z.LON, z.LAT), axis=1)"
   ]
  },
  {
   "cell_type": "code",
   "execution_count": 5,
   "metadata": {},
   "outputs": [],
   "source": [
    "#Create a geopandas dataframe from the dataframe created above\n",
    "PointsGeodataframe = gpd.GeoDataFrame(df)"
   ]
  },
  {
   "cell_type": "code",
   "execution_count": 6,
   "metadata": {},
   "outputs": [],
   "source": [
    "#Create a geopandas dataframe from the countyies file\n",
    "PolygonsGeodataframe = gpd.GeoDataFrame.from_file(countyFN)"
   ]
  },
  {
   "cell_type": "code",
   "execution_count": 7,
   "metadata": {},
   "outputs": [],
   "source": [
    "#Drop unneeded columns\n",
    "PolygonsGeodataframe.drop(['AFFGEOID','ALAND','AWATER','COUNTYFP','COUNTYNS','LSAD'],axis=1,inplace=True)"
   ]
  },
  {
   "cell_type": "code",
   "execution_count": 8,
   "metadata": {},
   "outputs": [],
   "source": [
    "#Set the coordinate system of the points equal to the polygons\n",
    "PointsGeodataframe.crs = PolygonsGeodataframe.crs"
   ]
  },
  {
   "cell_type": "code",
   "execution_count": 9,
   "metadata": {},
   "outputs": [],
   "source": [
    "#Execute the spatial join\n",
    "merged=sjoin(PointsGeodataframe, PolygonsGeodataframe, how='left',op='within')"
   ]
  },
  {
   "cell_type": "code",
   "execution_count": 10,
   "metadata": {
    "collapsed": true
   },
   "outputs": [],
   "source": [
    "#Fix columns\n",
    "merged.drop(['geometry','index_right'],axis=1,inplace=True)"
   ]
  },
  {
   "cell_type": "code",
   "execution_count": 11,
   "metadata": {
    "collapsed": true
   },
   "outputs": [],
   "source": [
    "#Drop missing data\n",
    "merged.dropna(inplace=True)"
   ]
  },
  {
   "cell_type": "code",
   "execution_count": 12,
   "metadata": {},
   "outputs": [],
   "source": [
    "#Write to a file\n",
    "merged.to_csv(outFC,index=False,encoding='utf8')#,na_rep=-9999)"
   ]
  }
 ],
 "metadata": {
  "kernelspec": {
   "display_name": "Python 2",
   "language": "python",
   "name": "python2"
  },
  "language_info": {
   "codemirror_mode": {
    "name": "ipython",
    "version": 2
   },
   "file_extension": ".py",
   "mimetype": "text/x-python",
   "name": "python",
   "nbconvert_exporter": "python",
   "pygments_lexer": "ipython2",
   "version": "2.7.12"
  }
 },
 "nbformat": 4,
 "nbformat_minor": 2
}
