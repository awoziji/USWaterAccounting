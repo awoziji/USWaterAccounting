{
 "cells": [
  {
   "cell_type": "markdown",
   "metadata": {},
   "source": [
    "### Fill Excel Spreadsheet\n",
    "Uses values in the WaterBalanceData.csv file to populate values in the USWaterBalanceSheet.xlsx file\n",
    "\n",
    "some help at https://stackoverflow.com/questions/2725852/writing-to-existing-workbook-using-xlwt"
   ]
  },
  {
   "cell_type": "code",
   "execution_count": 15,
   "metadata": {
    "collapsed": true
   },
   "outputs": [],
   "source": [
    "#Import modules (including xlwt: http://xlwt.readthedocs.io/en/latest/)\n",
    "import sys, os\n",
    "from xlrd import open_workbook\n",
    "from xlwt import easyxf\n",
    "from xlutils.copy import copy\n",
    "import pandas as pd"
   ]
  },
  {
   "cell_type": "code",
   "execution_count": 3,
   "metadata": {
    "collapsed": true
   },
   "outputs": [],
   "source": [
    "#Get the file names\n",
    "dataDir = '../../Data'\n",
    "inDataFN = dataDir + os.sep + 'WaterBalanceData.csv'\n",
    "inXlsxFN = dataDir + os.sep + 'USWaterBalanceSheet.xlsx'"
   ]
  },
  {
   "cell_type": "code",
   "execution_count": 14,
   "metadata": {},
   "outputs": [],
   "source": [
    "#Load the data into a pandas dataframe\n",
    "dfData = pd.read_csv(inDataFN)"
   ]
  },
  {
   "cell_type": "code",
   "execution_count": 8,
   "metadata": {},
   "outputs": [],
   "source": [
    "#Create the dictionary of GroupNames and cell locations\n",
    "celLocs = {'Aquaculture_Surface':(20,1),\n",
    "           'Aquaculture_Groundwater':(21,1),\n",
    "           'Domestic_Surface':(20,2),\n",
    "           'Domestic_Groundwater':(21,2),\n",
    "           'Industrial_Surface':(20,3),\n",
    "           'Industrial_Groundwater':(21,3),\n",
    "           'CropIrrigation_Surface':(20,4),\n",
    "           'CropIrrigation_Groundwater':(21,4),\n",
    "           'GolfIrrigation_Surface':(20,5),\n",
    "           'GolfIrrigation_Groundwater':(21,5),\n",
    "           'Livestock_Surface':(20,6),\n",
    "           'Livestock_Groundwater':(21,6),\n",
    "           'Mining_Surface':(20,7),\n",
    "           'Mining_Groundwater':(21,7),\n",
    "           'PublicSupply_Surface':(20,8),\n",
    "           'PublicSupply_Groundwater':(21,8),\n",
    "           'ThermoElec_Surface':(20,9),\n",
    "           'ThermoElec_Groundwater':(21,9),\n",
    "           'ThermoElec_Surface':(20,10),\n",
    "           'ThermoElec_Groundwater':(21,10),\n",
    "           'ThermoElec_Surface':(20,11),\n",
    "           'ThermoElec_Groundwaterr':(21,11)\n",
    "          } "
   ]
  },
  {
   "cell_type": "code",
   "execution_count": 16,
   "metadata": {
    "collapsed": true
   },
   "outputs": [],
   "source": [
    "#Create the workbook object\n",
    "rb = open_workbook(inXlsxFN)\n",
    "wb = copy(rb)"
   ]
  },
  {
   "cell_type": "code",
   "execution_count": 17,
   "metadata": {
    "collapsed": true
   },
   "outputs": [],
   "source": [
    "#Get the 2000 worksheet\n",
    "ws = wb.get_sheet(1)"
   ]
  },
  {
   "cell_type": "code",
   "execution_count": 9,
   "metadata": {},
   "outputs": [],
   "source": [
    "#Query and insert values into the spreadsheet\n",
    "name = celLocs.keys()[3]\n",
    "cell = celLocs[name]\n",
    "val = dfData[(dfData.Group == name) & (dfData.YEAR == 2000)]['MGal'].iloc[0]\n"
   ]
  },
  {
   "cell_type": "code",
   "execution_count": 11,
   "metadata": {},
   "outputs": [
    {
     "data": {
      "text/plain": [
       "21"
      ]
     },
     "execution_count": 11,
     "metadata": {},
     "output_type": "execute_result"
    }
   ],
   "source": [
    "cell[0]"
   ]
  },
  {
   "cell_type": "code",
   "execution_count": 19,
   "metadata": {},
   "outputs": [],
   "source": [
    "ws.write(cell[0],cell[1],'Foo')\n",
    "#ws.write(cell[0],cell[1],val)"
   ]
  },
  {
   "cell_type": "code",
   "execution_count": 21,
   "metadata": {
    "collapsed": true
   },
   "outputs": [],
   "source": [
    "wb.save(dataDir+os.sep+'foo.xls')"
   ]
  },
  {
   "cell_type": "code",
   "execution_count": null,
   "metadata": {
    "collapsed": true
   },
   "outputs": [],
   "source": []
  }
 ],
 "metadata": {
  "kernelspec": {
   "display_name": "Python 2",
   "language": "python",
   "name": "python2"
  },
  "language_info": {
   "codemirror_mode": {
    "name": "ipython",
    "version": 2
   },
   "file_extension": ".py",
   "mimetype": "text/x-python",
   "name": "python",
   "nbconvert_exporter": "python",
   "pygments_lexer": "ipython2",
   "version": "2.7.12"
  }
 },
 "nbformat": 4,
 "nbformat_minor": 2
}
