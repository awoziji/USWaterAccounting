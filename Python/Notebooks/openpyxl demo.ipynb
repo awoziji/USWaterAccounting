{
 "cells": [
  {
   "cell_type": "markdown",
   "metadata": {},
   "source": [
    "https://openpyxl.readthedocs.io/en/default/"
   ]
  },
  {
   "cell_type": "code",
   "execution_count": 1,
   "metadata": {},
   "outputs": [],
   "source": [
    "##Install module, if not installed already\n",
    "#import pip\n",
    "#pip.main(['install','openpyxl'])"
   ]
  },
  {
   "cell_type": "code",
   "execution_count": 2,
   "metadata": {
    "collapsed": true
   },
   "outputs": [],
   "source": [
    "#Import modules \n",
    "import sys, os, datetime\n",
    "import pandas as pd\n",
    "from openpyxl import Workbook"
   ]
  },
  {
   "cell_type": "code",
   "execution_count": 3,
   "metadata": {},
   "outputs": [],
   "source": [
    "#File input/output\n",
    "dataDir = \"../../Data\"\n",
    "tempDir = dataDir.replace(\"Data\",\"Scratch\")\n",
    "useFN = dataDir + os.sep + \"Usage2000.csv\"\n",
    "supplyFN = dataDir + os.sep + \"StateSupply.csv\"\n",
    "outFN = tempDir + os.sep + \"TableX.xlsx\""
   ]
  },
  {
   "cell_type": "code",
   "execution_count": 4,
   "metadata": {},
   "outputs": [],
   "source": [
    "#import the data as pandas dataframes\n",
    "dfUse = pd.read_csv(useFN)\n"
   ]
  },
  {
   "cell_type": "code",
   "execution_count": 5,
   "metadata": {
    "collapsed": true
   },
   "outputs": [],
   "source": [
    "# Create workbook object and grab the active worksheet\n",
    "wb = Workbook()\n",
    "ws1 = wb.active\n",
    "ws1.title = \"Table 1.1\""
   ]
  },
  {
   "cell_type": "code",
   "execution_count": 6,
   "metadata": {},
   "outputs": [],
   "source": [
    "# Insert the sheet info rows\n",
    "ws1['A1'] = \"Summary Statistics, by state, 2000, 2005, 2010\"\n",
    "ws1['A2'] = \"Created {}\".format(datetime.datetime.now())\n",
    "ws1['A4'] = \"\""
   ]
  },
  {
   "cell_type": "code",
   "execution_count": 7,
   "metadata": {},
   "outputs": [],
   "source": [
    "# Add column headers (blank col followed by state names)\n",
    "stateCodes = dfUse.columns.values.tolist()[1:]\n",
    "#for col in ws1.iter_cols(min_row=4,max_row=4,min_col=1,max_col=len(stateCodes)):\n",
    "for colIdx in range(len(stateCodes)):\n",
    "    ws1.cell(row=4,column=colIdx+1,value=stateCodes[colIdx])"
   ]
  },
  {
   "cell_type": "code",
   "execution_count": 8,
   "metadata": {
    "collapsed": true
   },
   "outputs": [],
   "source": [
    "# Save the file\n",
    "wb.save(filename = outFN)\n",
    "wb.close()"
   ]
  },
  {
   "cell_type": "code",
   "execution_count": 9,
   "metadata": {
    "collapsed": true
   },
   "outputs": [],
   "source": [
    "#?ws1.iter_cols"
   ]
  }
 ],
 "metadata": {
  "kernelspec": {
   "display_name": "Python 2",
   "language": "python",
   "name": "python2"
  },
  "language_info": {
   "codemirror_mode": {
    "name": "ipython",
    "version": 2
   },
   "file_extension": ".py",
   "mimetype": "text/x-python",
   "name": "python",
   "nbconvert_exporter": "python",
   "pygments_lexer": "ipython2",
   "version": "2.7.12"
  }
 },
 "nbformat": 4,
 "nbformat_minor": 2
}
