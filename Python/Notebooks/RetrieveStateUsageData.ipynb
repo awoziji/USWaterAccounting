{
 "cells": [
  {
   "cell_type": "markdown",
   "metadata": {},
   "source": [
    "Downloads State Water Use data for 2000/2005/2010 and creates a formatted Physical Water Use Supply table. \n",
    "\n",
    "Sample URL (Louisiana)\n",
    "https://waterdata.usgs.gov/la/nwis/water_use?format=rdb&rdb_compression=value&wu_area=County&wu_year=2000%2C2005%2C2010&wu_county=ALL&wu_category=ALL&wu_county_nms=--ALL%2BCounties--&wu_category_nms=--ALL%2BCategories--\n",
    "\n",
    "Workflow\n",
    "* Construct the url and download the data into a pandas data frame\n",
    "* Melt/gather the usage columns into row values under the column name 'Group'\n",
    "* Remove rows with no usage data (identified by not having \"Mgal\" in the 'Group' name)\n",
    "*"
   ]
  },
  {
   "cell_type": "code",
   "execution_count": 1,
   "metadata": {
    "collapsed": true
   },
   "outputs": [],
   "source": [
    "#Import modules\n",
    "import sys, os, urllib\n",
    "import pandas as pd\n",
    "import numpy as np"
   ]
  },
  {
   "cell_type": "code",
   "execution_count": 2,
   "metadata": {
    "collapsed": true
   },
   "outputs": [],
   "source": [
    "#Specify the state and year to process\n",
    "state = 'la' #Louisiana\n",
    "year = 2010"
   ]
  },
  {
   "cell_type": "code",
   "execution_count": 3,
   "metadata": {
    "collapsed": true
   },
   "outputs": [],
   "source": [
    "#Set the output file location to the Data/State data folder\n",
    "outFolder = '../../Data/Statedata/'\n",
    "outFN = outFolder + os.sep + '{0}_{1}.csv'.format(state,year)"
   ]
  },
  {
   "cell_type": "code",
   "execution_count": 4,
   "metadata": {},
   "outputs": [],
   "source": [
    "#Set the data URL path and parameters and construct the url\n",
    "path = 'https://waterdata.usgs.gov/{}/nwis/water_use?'.format(state)\n",
    "values = {'format':'rdb',\n",
    "         'rdb_compression':'value',\n",
    "         'wu_area':'County',\n",
    "         'wu_year': year,\n",
    "         'wu_county':'ALL',\n",
    "         'wu_county_nms':'--ALL+Counties--',\n",
    "         'wu_category_nms':'--ALL+Categories--'\n",
    "        }\n",
    "url = path + urllib.urlencode(values)"
   ]
  },
  {
   "cell_type": "code",
   "execution_count": 5,
   "metadata": {
    "collapsed": true
   },
   "outputs": [],
   "source": [
    "#Pull data in using the URL and remove the 2nd row of headers\n",
    "dfRaw = pd.read_table(url,comment='#',header=[0,1],na_values='-')\n",
    "dfRaw.columns = dfRaw.columns.droplevel(level=1)"
   ]
  },
  {
   "cell_type": "code",
   "execution_count": null,
   "metadata": {},
   "outputs": [],
   "source": [
    "#Read locally, for debugging, and drop the 2nd row of headers\n",
    "#dfRaw = pd.read_table('../../Data/Proprietary/LA.txt',comment='#',header=[0,1],na_values='-')\n",
    "#dfRaw.columns = dfRaw.columns.droplevel(level=1)\n",
    "dfRaw.head()"
   ]
  },
  {
   "cell_type": "code",
   "execution_count": 9,
   "metadata": {},
   "outputs": [
    {
     "data": {
      "text/plain": [
       "(17664, 7)"
      ]
     },
     "execution_count": 9,
     "metadata": {},
     "output_type": "execute_result"
    }
   ],
   "source": [
    "#Tidy the data\n",
    "rowHeadings = ['county_cd', 'county_nm', 'state_cd', 'state_name', 'year']\n",
    "dfTidy = pd.melt(dfRaw,id_vars=rowHeadings,value_name='MGal',var_name='Group')\n",
    "dfTidy.shape"
   ]
  },
  {
   "cell_type": "code",
   "execution_count": 10,
   "metadata": {},
   "outputs": [
    {
     "data": {
      "text/plain": [
       "(15040, 7)"
      ]
     },
     "execution_count": 10,
     "metadata": {},
     "output_type": "execute_result"
    }
   ],
   "source": [
    "#Remove rows that don't have volume data (i.e. keep only columns with 'Mgal' in the name)\n",
    "dfTidy = dfTidy[dfTidy['Group'].str.contains('Mgal')]\n",
    "dfTidy.shape"
   ]
  },
  {
   "cell_type": "code",
   "execution_count": 11,
   "metadata": {},
   "outputs": [
    {
     "data": {
      "text/plain": [
       "50620.130000000005"
      ]
     },
     "execution_count": 11,
     "metadata": {},
     "output_type": "execute_result"
    }
   ],
   "source": [
    "#Change the type of the MGal column to float\n",
    "dfTidy['MGal'] = dfTidy.MGal.astype(np.float)\n",
    "dfTidy['MGal'].sum()"
   ]
  },
  {
   "cell_type": "code",
   "execution_count": 12,
   "metadata": {},
   "outputs": [
    {
     "data": {
      "text/html": [
       "<div>\n",
       "<table border=\"1\" class=\"dataframe\">\n",
       "  <thead>\n",
       "    <tr style=\"text-align: right;\">\n",
       "      <th></th>\n",
       "      <th>county_cd</th>\n",
       "      <th>county_nm</th>\n",
       "      <th>state_cd</th>\n",
       "      <th>state_name</th>\n",
       "      <th>year</th>\n",
       "      <th>Group</th>\n",
       "      <th>MGal</th>\n",
       "    </tr>\n",
       "  </thead>\n",
       "  <tbody>\n",
       "    <tr>\n",
       "      <th>256</th>\n",
       "      <td>1</td>\n",
       "      <td>Acadia Parish</td>\n",
       "      <td>22</td>\n",
       "      <td>Louisiana</td>\n",
       "      <td>2010</td>\n",
       "      <td>Public Supply self-supplied groundwater withdr...</td>\n",
       "      <td>5.82</td>\n",
       "    </tr>\n",
       "    <tr>\n",
       "      <th>257</th>\n",
       "      <td>3</td>\n",
       "      <td>Allen Parish</td>\n",
       "      <td>22</td>\n",
       "      <td>Louisiana</td>\n",
       "      <td>2010</td>\n",
       "      <td>Public Supply self-supplied groundwater withdr...</td>\n",
       "      <td>4.27</td>\n",
       "    </tr>\n",
       "    <tr>\n",
       "      <th>258</th>\n",
       "      <td>5</td>\n",
       "      <td>Ascension Parish</td>\n",
       "      <td>22</td>\n",
       "      <td>Louisiana</td>\n",
       "      <td>2010</td>\n",
       "      <td>Public Supply self-supplied groundwater withdr...</td>\n",
       "      <td>3.02</td>\n",
       "    </tr>\n",
       "    <tr>\n",
       "      <th>259</th>\n",
       "      <td>7</td>\n",
       "      <td>Assumption Parish</td>\n",
       "      <td>22</td>\n",
       "      <td>Louisiana</td>\n",
       "      <td>2010</td>\n",
       "      <td>Public Supply self-supplied groundwater withdr...</td>\n",
       "      <td>0.00</td>\n",
       "    </tr>\n",
       "    <tr>\n",
       "      <th>260</th>\n",
       "      <td>9</td>\n",
       "      <td>Avoyelles Parish</td>\n",
       "      <td>22</td>\n",
       "      <td>Louisiana</td>\n",
       "      <td>2010</td>\n",
       "      <td>Public Supply self-supplied groundwater withdr...</td>\n",
       "      <td>3.85</td>\n",
       "    </tr>\n",
       "  </tbody>\n",
       "</table>\n",
       "</div>"
      ],
      "text/plain": [
       "     county_cd          county_nm  state_cd state_name  year  \\\n",
       "256          1      Acadia Parish        22  Louisiana  2010   \n",
       "257          3       Allen Parish        22  Louisiana  2010   \n",
       "258          5   Ascension Parish        22  Louisiana  2010   \n",
       "259          7  Assumption Parish        22  Louisiana  2010   \n",
       "260          9   Avoyelles Parish        22  Louisiana  2010   \n",
       "\n",
       "                                                 Group  MGal  \n",
       "256  Public Supply self-supplied groundwater withdr...  5.82  \n",
       "257  Public Supply self-supplied groundwater withdr...  4.27  \n",
       "258  Public Supply self-supplied groundwater withdr...  3.02  \n",
       "259  Public Supply self-supplied groundwater withdr...  0.00  \n",
       "260  Public Supply self-supplied groundwater withdr...  3.85  "
      ]
     },
     "execution_count": 12,
     "metadata": {},
     "output_type": "execute_result"
    }
   ],
   "source": [
    "dfTidy.head()"
   ]
  },
  {
   "cell_type": "code",
   "execution_count": null,
   "metadata": {
    "collapsed": true
   },
   "outputs": [],
   "source": [
    "#Create lists\n",
    "useClasses = [\"Aquaculture\",\n",
    "              \"Commercial\",\n",
    "              \"Domestic\",\n",
    "              \"Fossil-fuel Thermoelectric\",\n",
    "              \"Geothermal Thermoelectric\",\n",
    "              \"\",\n",
    "              \"\",\n",
    "              \"\",\n",
    "              \n",
    "             ]\n"
   ]
  },
  {
   "cell_type": "code",
   "execution_count": 16,
   "metadata": {},
   "outputs": [],
   "source": [
    "#Summarize \n",
    "dfState = dfTidy.groupby(['Group'])['MGal'].sum()\n",
    "dfState.to_csv(outFN)"
   ]
  },
  {
   "cell_type": "code",
   "execution_count": 17,
   "metadata": {},
   "outputs": [
    {
     "data": {
      "text/plain": [
       "Group\n",
       "Aquaculture consumptive use, fresh, in Mgal/d                               NaN\n",
       "Aquaculture consumptive use, saline, in Mgal/d                              NaN\n",
       "Aquaculture self-supplied groundwater withdrawals, fresh, in Mgal/d      197.39\n",
       "Aquaculture self-supplied groundwater withdrawals, saline, in Mgal/d        NaN\n",
       "Aquaculture self-supplied surface-water withdrawals, fresh, in Mgal/d    113.67\n",
       "Name: MGal, dtype: float64"
      ]
     },
     "execution_count": 17,
     "metadata": {},
     "output_type": "execute_result"
    }
   ],
   "source": []
  }
 ],
 "metadata": {
  "kernelspec": {
   "display_name": "Python 2",
   "language": "python",
   "name": "python2"
  },
  "language_info": {
   "codemirror_mode": {
    "name": "ipython",
    "version": 2
   },
   "file_extension": ".py",
   "mimetype": "text/x-python",
   "name": "python",
   "nbconvert_exporter": "python",
   "pygments_lexer": "ipython2",
   "version": "2.7.13"
  }
 },
 "nbformat": 4,
 "nbformat_minor": 2
}
