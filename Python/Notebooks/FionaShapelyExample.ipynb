{
 "cells": [
  {
   "cell_type": "markdown",
   "metadata": {},
   "source": [
    "## Fiona and Shapely Example"
   ]
  },
  {
   "cell_type": "markdown",
   "metadata": {},
   "source": [
    "https://macwright.org/2012/10/31/gis-with-python-shapely-fiona.html"
   ]
  },
  {
   "cell_type": "code",
   "execution_count": 3,
   "metadata": {
    "collapsed": false
   },
   "outputs": [],
   "source": [
    "import sys, os, csv\n",
    "import fiona\n",
    "import shapely"
   ]
  },
  {
   "cell_type": "code",
   "execution_count": 4,
   "metadata": {
    "collapsed": false
   },
   "outputs": [],
   "source": [
    "#get the filenames\n",
    "dataDir = \"../../Data\"\n",
    "fipsCSV = dataDir + os.sep + \"FIPS.csv\"\n",
    "dataCSV = dataDir + os.sep + \"Year2000.csv\"\n",
    "outCSV = dataDir + os.sep + \"Year2000_byState.csv\""
   ]
  },
  {
   "cell_type": "code",
   "execution_count": 5,
   "metadata": {
    "collapsed": true
   },
   "outputs": [],
   "source": [
    "import csv\n",
    "from shapely.geometry import Point, mapping\n",
    "from fiona import collection"
   ]
  },
  {
   "cell_type": "code",
   "execution_count": 14,
   "metadata": {
    "collapsed": false
   },
   "outputs": [],
   "source": [
    "schema = { 'geometry': 'Point', 'properties': { 'et': 'float', 'Precip': 'float' } }\n",
    "with collection(\n",
    "    \"some.shp\", \"w\", \"ESRI Shapefile\", schema) as output:\n",
    "    with open(dataCSV, 'rb') as f:\n",
    "        reader = csv.DictReader(f)\n",
    "        for row in reader:\n",
    "            point = Point(float(row['Longitude']), float(row['Latitude']))\n",
    "            output.write({\n",
    "                'properties': {\n",
    "                    'et': row['ET'],\n",
    "                    'Precip': row['Precip']\n",
    "                },\n",
    "                'geometry': mapping(point)\n",
    "})"
   ]
  },
  {
   "cell_type": "code",
   "execution_count": null,
   "metadata": {
    "collapsed": true
   },
   "outputs": [],
   "source": []
  }
 ],
 "metadata": {
  "kernelspec": {
   "display_name": "Python 2",
   "language": "python",
   "name": "python2"
  },
  "language_info": {
   "codemirror_mode": {
    "name": "ipython",
    "version": 2
   },
   "file_extension": ".py",
   "mimetype": "text/x-python",
   "name": "python",
   "nbconvert_exporter": "python",
   "pygments_lexer": "ipython2",
   "version": "2.7.10"
  }
 },
 "nbformat": 4,
 "nbformat_minor": 1
}
